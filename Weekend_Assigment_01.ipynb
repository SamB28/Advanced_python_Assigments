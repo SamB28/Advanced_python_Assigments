{
 "cells": [
  {
   "cell_type": "code",
   "execution_count": 49,
   "metadata": {},
   "outputs": [],
   "source": [
    "class Restaurant:\n",
    "    def rest_init_info(self,restaurant_name,cuisine_type):\n",
    "        self.restaurant_name = restaurant_name.title()\n",
    "        self.cuisine_type = cuisine_type.title()\n",
    " \n",
    "    def open_restaurant(self):\n",
    "        print(f\"\\nGood news, the {self.restaurant_name} restaurant is now open!!\")\n",
    "        \n",
    "    def describe_restaurant(self):\n",
    "        print(f\"Welcome to {self.restaurant_name} restaurant\")\n",
    "        print(f\"\\nWe serve {self.cuisine_type} cuisine\")\n",
    "    "
   ]
  },
  {
   "cell_type": "code",
   "execution_count": 50,
   "metadata": {},
   "outputs": [],
   "source": [
    "rest_obj = Restaurant()"
   ]
  },
  {
   "cell_type": "code",
   "execution_count": 51,
   "metadata": {},
   "outputs": [],
   "source": [
    "rest_obj.rest_init_info('maharaja','indian')"
   ]
  },
  {
   "cell_type": "code",
   "execution_count": 52,
   "metadata": {},
   "outputs": [
    {
     "name": "stdout",
     "output_type": "stream",
     "text": [
      "\n",
      "Good news, the Maharaja restaurant is now open!!\n"
     ]
    }
   ],
   "source": [
    "rest_obj.open_restaurant()"
   ]
  },
  {
   "cell_type": "code",
   "execution_count": 53,
   "metadata": {},
   "outputs": [
    {
     "name": "stdout",
     "output_type": "stream",
     "text": [
      "Welcome to Maharaja restaurant\n",
      "\n",
      "We serve Indian cuisine\n"
     ]
    }
   ],
   "source": [
    "rest_obj.describe_restaurant()"
   ]
  },
  {
   "cell_type": "code",
   "execution_count": 55,
   "metadata": {},
   "outputs": [
    {
     "data": {
      "text/plain": [
       "array([ 1,  3,  5,  7,  9, 11, 13, 15, 17, 19, 21, 23, 25, 27, 29])"
      ]
     },
     "execution_count": 55,
     "metadata": {},
     "output_type": "execute_result"
    }
   ],
   "source": [
    "#Code for getting odd numbers till 30\n",
    "import numpy as np\n",
    "\n",
    "array_of_odds = np.arange(1,30,2)\n",
    "array_of_odds"
   ]
  },
  {
   "cell_type": "code",
   "execution_count": null,
   "metadata": {},
   "outputs": [],
   "source": []
  }
 ],
 "metadata": {
  "kernelspec": {
   "display_name": "Python 3",
   "language": "python",
   "name": "python3"
  },
  "language_info": {
   "codemirror_mode": {
    "name": "ipython",
    "version": 3
   },
   "file_extension": ".py",
   "mimetype": "text/x-python",
   "name": "python",
   "nbconvert_exporter": "python",
   "pygments_lexer": "ipython3",
   "version": "3.8.3"
  }
 },
 "nbformat": 4,
 "nbformat_minor": 4
}
